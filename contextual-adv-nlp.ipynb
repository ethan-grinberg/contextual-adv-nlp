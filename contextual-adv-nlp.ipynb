{
 "cells": [
  {
   "cell_type": "code",
   "execution_count": 6,
   "metadata": {},
   "outputs": [],
   "source": [
    "import numpy as np\n",
    "from sklearn.feature_extraction.text import TfidfVectorizer\n",
    "from sklearn.metrics.pairwise import cosine_similarity\n",
    "from data.gensim_data.google import load_data\n",
    "from nltk.corpus import stopwords\n",
    "from nltk.tokenize import word_tokenize\n",
    "from nltk.stem import WordNetLemmatizer\n",
    "from sklearn.decomposition import TruncatedSVD\n",
    "from gensim.models import Word2Vec\n",
    "import string\n",
    "from gensim import corpora\n",
    "import gensim\n",
    "import aspect_based_sentiment_analysis as absa\n",
    "nlp = absa.load()\n",
    "\n",
    "punctuation = string.punctuation\n",
    "stop_words = stopwords.words('english')"
   ]
  },
  {
   "cell_type": "code",
   "execution_count": 7,
   "metadata": {},
   "outputs": [],
   "source": [
    "# the model is downloaded from gensim and stored in this relative directory\n",
    "model = load_data(\"data/gensim_data/google\")"
   ]
  },
  {
   "cell_type": "code",
   "execution_count": 8,
   "metadata": {},
   "outputs": [],
   "source": [
    "def read_txt_as_str(f_name):\n",
    "    with open(f_name, 'r') as file:\n",
    "        return file.read().replace('\\n', ' ')"
   ]
  },
  {
   "cell_type": "code",
   "execution_count": 32,
   "metadata": {},
   "outputs": [],
   "source": [
    "positive_car = read_txt_as_str(\"data/positive_car.txt\")\n",
    "negative_car = read_txt_as_str(\"data/negative_car.txt\")\n",
    "positive_plane = read_txt_as_str(\"data/positive_plane.txt\")\n",
    "negative_plane = read_txt_as_str(\"data/negative_plane.txt\")\n",
    "\n",
    "advertising_keywords = [\"car\", \"drive\", \"family\", \"SUV\"]\n",
    "advertising_keywords2 = [\"plane\", \"travel\", \"airplane\", \"relax\"]"
   ]
  },
  {
   "cell_type": "code",
   "execution_count": 10,
   "metadata": {},
   "outputs": [],
   "source": [
    "def preproccess_txt(txt, model):\n",
    "    # tokenize\n",
    "    tokens = word_tokenize(txt.lower())\n",
    "\n",
    "    # lemmatize\n",
    "    lemmatizer = WordNetLemmatizer()\n",
    "    lemmas = [lemmatizer.lemmatize(token) for token in tokens]\n",
    "    \n",
    "    # Remove stopwords\n",
    "    final_tokens = [token for token in lemmas if ((not (token in stop_words)) and (not (token in punctuation)))]\n",
    "\n",
    "    # remove words not in model\n",
    "    final_tokens = [w for w in final_tokens if w in model.key_to_index]\n",
    "    return final_tokens"
   ]
  },
  {
   "cell_type": "code",
   "execution_count": 11,
   "metadata": {},
   "outputs": [],
   "source": [
    "def get_tfid_vec(txt):\n",
    "    vectorizer = TfidfVectorizer(lowercase=True, stop_words='english', strip_accents='ascii')\n",
    "    vector = vectorizer.fit_transform(txt)\n",
    "    return vector"
   ]
  },
  {
   "cell_type": "code",
   "execution_count": 12,
   "metadata": {},
   "outputs": [],
   "source": [
    "def get_lsa(vecs):\n",
    "    lsa = TruncatedSVD()\n",
    "    dtm_lsa = lsa.fit_transform(vecs)\n",
    "    return dtm_lsa"
   ]
  },
  {
   "cell_type": "code",
   "execution_count": 13,
   "metadata": {},
   "outputs": [],
   "source": [
    "def get_vec_from_model(model, words, single_vec=False):\n",
    "    vecs = [model[w] for w in words if w in model.key_to_index]\n",
    "    vecs = np.array(vecs)\n",
    "    \n",
    "    if single_vec:\n",
    "        return vecs.mean(axis=0)\n",
    "    else:\n",
    "        return vecs"
   ]
  },
  {
   "cell_type": "code",
   "execution_count": 14,
   "metadata": {},
   "outputs": [],
   "source": [
    "def words_2_doc(words):\n",
    "    return ' '.join(words)"
   ]
  },
  {
   "cell_type": "code",
   "execution_count": 15,
   "metadata": {},
   "outputs": [],
   "source": [
    "def get_vec_from_model(model, words, single_vec=True):\n",
    "    vecs = [model[w] for w in words if w in model.key_to_index]\n",
    "    vecs = np.array(vecs)\n",
    "    \n",
    "    if single_vec:\n",
    "        return vecs.mean(axis=0)\n",
    "    else:\n",
    "        return vecs"
   ]
  },
  {
   "cell_type": "code",
   "execution_count": 16,
   "metadata": {},
   "outputs": [],
   "source": [
    "def get_vec_similarity(all_text, keywords, model, lsa):\n",
    "    all_vecs = []\n",
    "    for text in all_text:\n",
    "        proc_text = preproccess_txt(text, model)\n",
    "        vecs = get_vec_from_model(model, proc_text)\n",
    "        all_vecs.append(vecs)\n",
    "\n",
    "    proc_keywords = preproccess_txt(keywords, model)\n",
    "    keyword_vecs = get_vec_from_model(model, proc_keywords)\n",
    "\n",
    "    stacked_vecs = np.stack(all_vecs + [keyword_vecs])\n",
    "    if lsa:\n",
    "        return cosine_similarity(get_lsa(stacked_vecs))\n",
    "    else:\n",
    "        return cosine_similarity(stacked_vecs)"
   ]
  },
  {
   "cell_type": "code",
   "execution_count": 17,
   "metadata": {},
   "outputs": [],
   "source": [
    "def get_topics(tokens, num_topics=5):\n",
    "    dictionary = corpora.Dictionary([tokens])\n",
    "\n",
    "    # convert tokenized document to a bag-of-words format\n",
    "    bow = dictionary.doc2bow(tokens)\n",
    "\n",
    "    # train LDA model\n",
    "    lda_model = gensim.models.LdaModel([bow], num_topics=num_topics, id2word=dictionary, passes=10, iterations=200, random_state=0)\n",
    "\n",
    "    # get sorted top topics\n",
    "    top_topics = lda_model.get_document_topics(bow, minimum_probability=0.0)\n",
    "    top_topics = sorted(top_topics, key=lambda x: x[1], reverse=True)\n",
    "\n",
    "    all_keywords = []\n",
    "    for topic in top_topics:\n",
    "        topic_words = [dictionary[word_id] for word_id, prob in lda_model.get_topic_terms(topic[0])]\n",
    "        all_keywords.append(topic_words)\n",
    "\n",
    "    return all_keywords"
   ]
  },
  {
   "cell_type": "code",
   "execution_count": 18,
   "metadata": {},
   "outputs": [],
   "source": [
    "def get_positive_sent(info):\n",
    "    sent = info[1]\n",
    "    if sent == absa.Sentiment.positive:\n",
    "        return True\n",
    "    else:\n",
    "        return False"
   ]
  },
  {
   "cell_type": "code",
   "execution_count": 46,
   "metadata": {},
   "outputs": [],
   "source": [
    "def get_aspa_sim(article, keywords, model):\n",
    "    topics = get_topics(preproccess_txt(article, model))\n",
    "    top_topic = topics[0]\n",
    "    print(\"top keywords: \", top_topic)\n",
    "\n",
    "    completed_task = nlp(article, aspects=top_topic)\n",
    "    \n",
    "    all_sent = []\n",
    "    for task in completed_task.examples:\n",
    "        sent = task.sentiment\n",
    "        aspect = task.aspect\n",
    "        all_sent.append((aspect, sent))\n",
    "    \n",
    "    filt_sent = list(filter(get_positive_sent, all_sent))\n",
    "    pos_words = [w[0] for w in filt_sent]\n",
    "\n",
    "    if len(pos_words) == 0:\n",
    "        print(\"no positive topics in article\")\n",
    "        return 0.0\n",
    "\n",
    "    print(\"positive keywords: \", pos_words)\n",
    "    return model.n_similarity(pos_words, preproccess_txt(words_2_doc(keywords), model))"
   ]
  },
  {
   "attachments": {},
   "cell_type": "markdown",
   "metadata": {},
   "source": [
    "## All article words"
   ]
  },
  {
   "cell_type": "code",
   "execution_count": 40,
   "metadata": {},
   "outputs": [
    {
     "name": "stdout",
     "output_type": "stream",
     "text": [
      "positive car article 0.46706164\n",
      "car crash article 0.5531928\n"
     ]
    }
   ],
   "source": [
    "pos_similarity = model.n_similarity(preproccess_txt(positive_car, model), preproccess_txt(words_2_doc(advertising_keywords), model))\n",
    "neg_similarity = model.n_similarity(preproccess_txt(negative_car, model), preproccess_txt(words_2_doc(advertising_keywords), model))\n",
    "print(\"positive car article:\", pos_similarity)\n",
    "print(\"car crash article:\", neg_similarity)"
   ]
  },
  {
   "attachments": {},
   "cell_type": "markdown",
   "metadata": {},
   "source": [
    "## All article words with LSA "
   ]
  },
  {
   "cell_type": "code",
   "execution_count": 43,
   "metadata": {},
   "outputs": [
    {
     "name": "stdout",
     "output_type": "stream",
     "text": [
      "positive car article 0.4994566\n",
      "car crash article 0.6341154\n"
     ]
    }
   ],
   "source": [
    "lsa = get_vec_similarity([positive_car, negative_car], words_2_doc(advertising_keywords), model, True)\n",
    "print(\"positive car article:\", lsa[2][0])\n",
    "print(\"car crash article:\", lsa[2][1])"
   ]
  },
  {
   "attachments": {},
   "cell_type": "markdown",
   "metadata": {},
   "source": [
    "## Article leading topic keywords"
   ]
  },
  {
   "cell_type": "code",
   "execution_count": 45,
   "metadata": {},
   "outputs": [
    {
     "name": "stdout",
     "output_type": "stream",
     "text": [
      "positive car article keywords used: ['car', 'event', 'together', 'community', 'cause', 'local', 'come', 'spirit', 'support', 'food']\n",
      "positive car article: 0.4297304\n",
      "car crash article keywords used: ['accident', 'freeway', 'driver', 'traffic', 'people', 'area', 'serious', 'safe', 'los', 'crash']\n",
      "car crash article: 0.5382987\n"
     ]
    }
   ],
   "source": [
    "positive_topics = get_topics(preproccess_txt(positive_car, model))[0]\n",
    "negative_topics = get_topics(preproccess_txt(negative_car, model))[0]\n",
    "print(\"positive car article keywords used:\", positive_topics)\n",
    "print(\"positive car article:\", model.n_similarity(positive_topics, preproccess_txt(words_2_doc(advertising_keywords), model)))\n",
    "print(\"car crash article keywords used:\", negative_topics)\n",
    "print(\"car crash article:\", model.n_similarity(negative_topics, preproccess_txt(words_2_doc(advertising_keywords), model)))"
   ]
  },
  {
   "attachments": {},
   "cell_type": "markdown",
   "metadata": {},
   "source": [
    "## Article leading topic keywords with aspect based sentiment analysis"
   ]
  },
  {
   "cell_type": "code",
   "execution_count": 47,
   "metadata": {},
   "outputs": [
    {
     "name": "stdout",
     "output_type": "stream",
     "text": [
      "top keywords:  ['car', 'event', 'together', 'community', 'cause', 'local', 'come', 'spirit', 'support', 'food']\n",
      "positive keywords:  ['car', 'event', 'together', 'community', 'cause', 'local', 'come', 'spirit', 'support', 'food']\n",
      "positive car article: 0.4297304\n",
      "top keywords:  ['accident', 'freeway', 'driver', 'traffic', 'people', 'area', 'serious', 'safe', 'los', 'crash']\n",
      "positive keywords:  ['safe']\n",
      "car crash article 0.18475531\n"
     ]
    }
   ],
   "source": [
    "pos_sim = get_aspa_sim(positive_car, advertising_keywords, model)\n",
    "print(\"positive car article:\", pos_sim)\n",
    "neg_sim = get_aspa_sim(negative_car, advertising_keywords, model)\n",
    "print(\"car crash article\", neg_sim)"
   ]
  },
  {
   "cell_type": "code",
   "execution_count": 26,
   "metadata": {},
   "outputs": [
    {
     "name": "stdout",
     "output_type": "stream",
     "text": [
      "top keywords:  ['flight', 'airplane', 'speed', 'new', 'advanced', 'set', 'plane', 'ha', 'record', 'journey']\n",
      "positive keywords:  ['flight', 'airplane', 'speed', 'new', 'advanced', 'set', 'plane', 'ha', 'record', 'journey']\n",
      "top keywords:  ['said', 'plane', 'police', 'two', 'airport', 'venice', 'pier', 'beaver', 'p.m.', 'wednesday']\n",
      "no positive topics in article\n",
      "positive:  0.72294444\n",
      "negative:  0.0\n"
     ]
    }
   ],
   "source": [
    "pos_sim = get_aspa_sim(positive_plane, advertising_keywords2, model)\n",
    "print(\"positive car article:\", pos_sim)\n",
    "neg_sim = get_aspa_sim(negative_plane, advertising_keywords2, model)\n",
    "print(\"car crash article\", neg_sim)"
   ]
  }
 ],
 "metadata": {
  "kernelspec": {
   "display_name": "base",
   "language": "python",
   "name": "python3"
  },
  "language_info": {
   "codemirror_mode": {
    "name": "ipython",
    "version": 3
   },
   "file_extension": ".py",
   "mimetype": "text/x-python",
   "name": "python",
   "nbconvert_exporter": "python",
   "pygments_lexer": "ipython3",
   "version": "3.8.5"
  },
  "orig_nbformat": 4
 },
 "nbformat": 4,
 "nbformat_minor": 2
}
