{
 "cells": [
  {
   "cell_type": "code",
   "execution_count": 84,
   "metadata": {},
   "outputs": [],
   "source": [
    "import numpy as np\n",
    "import sklearn\n",
    "from sklearn.feature_extraction.text import TfidfVectorizer\n",
    "from sklearn.metrics.pairwise import cosine_similarity\n",
    "\n",
    "import nltk\n",
    "from nltk.corpus import stopwords\n",
    "from nltk.tokenize import word_tokenize\n",
    "from nltk.stem import WordNetLemmatizer\n",
    "stop_words = stopwords.words('english')\n",
    "import tensorflow as tf\n",
    "import transformers\n",
    "from sklearn.decomposition import TruncatedSVD"
   ]
  },
  {
   "cell_type": "code",
   "execution_count": 20,
   "metadata": {},
   "outputs": [],
   "source": [
    "def read_txt_as_str(f_name):\n",
    "    with open(f_name, 'r') as file:\n",
    "        return file.read().replace('\\n', ' ')"
   ]
  },
  {
   "cell_type": "code",
   "execution_count": 86,
   "metadata": {},
   "outputs": [],
   "source": [
    "positive_car = read_txt_as_str(\"data/positive_car.txt\")\n",
    "negative_car = read_txt_as_str(\"data/negative_car.txt\")\n",
    "\n",
    "advertising_keywords = [\"car\", \"drive\", \"fast\"]"
   ]
  },
  {
   "cell_type": "code",
   "execution_count": 60,
   "metadata": {},
   "outputs": [],
   "source": [
    "def preproccess_txt(txt):\n",
    "    # tokenize\n",
    "    tokens = word_tokenize(txt.lower())\n",
    "\n",
    "    # lemmatize\n",
    "    lemmatizer = WordNetLemmatizer()\n",
    "    lemmas = [lemmatizer.lemmatize(token) for token in tokens]\n",
    "\n",
    "    # Remove stopwords\n",
    "    final_tokens = [token for token in lemmas if token not in stop_words]\n",
    "    return ' '.join(final_tokens)"
   ]
  },
  {
   "cell_type": "code",
   "execution_count": 54,
   "metadata": {},
   "outputs": [],
   "source": [
    "def get_tfid_vec(txt):\n",
    "    vectorizer = TfidfVectorizer(lowercase=True, stop_words='english', strip_accents='ascii')\n",
    "    vector = vectorizer.fit_transform(txt)\n",
    "    return vector"
   ]
  },
  {
   "cell_type": "code",
   "execution_count": 62,
   "metadata": {},
   "outputs": [],
   "source": [
    "def get_lsa(vecs):\n",
    "    lsa = TruncatedSVD()\n",
    "    dtm_lsa = lsa.fit_transform(vecs)\n",
    "    return dtm_lsa"
   ]
  },
  {
   "cell_type": "code",
   "execution_count": 45,
   "metadata": {},
   "outputs": [],
   "source": [
    "def keyword_2_doc(keywords):\n",
    "    return \" \".join(keywords)"
   ]
  },
  {
   "cell_type": "code",
   "execution_count": 82,
   "metadata": {},
   "outputs": [],
   "source": [
    "advertising_keywords = [\"coffee\", \"tea\", \"relax\"]"
   ]
  },
  {
   "cell_type": "code",
   "execution_count": 87,
   "metadata": {},
   "outputs": [
    {
     "data": {
      "text/plain": [
       "array([[ 1.        ,  0.72557916,  0.51084146],\n",
       "       [ 0.72557916,  1.        , -0.2209197 ],\n",
       "       [ 0.51084146, -0.2209197 ,  1.        ]])"
      ]
     },
     "execution_count": 87,
     "metadata": {},
     "output_type": "execute_result"
    }
   ],
   "source": [
    "vecs = get_tfid_vec([positive_car, negative_car, keyword_2_doc(advertising_keywords)])\n",
    "dtm_lsa = get_lsa(vecs)\n",
    "cosine_similarity(dtm_lsa)"
   ]
  }
 ],
 "metadata": {
  "kernelspec": {
   "display_name": "base",
   "language": "python",
   "name": "python3"
  },
  "language_info": {
   "codemirror_mode": {
    "name": "ipython",
    "version": 3
   },
   "file_extension": ".py",
   "mimetype": "text/x-python",
   "name": "python",
   "nbconvert_exporter": "python",
   "pygments_lexer": "ipython3",
   "version": "3.8.5"
  },
  "orig_nbformat": 4
 },
 "nbformat": 4,
 "nbformat_minor": 2
}
