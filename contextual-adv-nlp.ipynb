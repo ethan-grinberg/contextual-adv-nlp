{
 "cells": [
  {
   "cell_type": "code",
   "execution_count": 1,
   "metadata": {},
   "outputs": [],
   "source": [
    "import numpy as np\n",
    "import sklearn\n",
    "from sklearn.feature_extraction.text import TfidfVectorizer\n",
    "from sklearn.metrics.pairwise import cosine_similarity\n",
    "from data.gensim_data.google import load_data\n",
    "import nltk\n",
    "from nltk.corpus import stopwords\n",
    "from nltk.tokenize import word_tokenize\n",
    "from nltk.stem import WordNetLemmatizer\n",
    "import tensorflow as tf\n",
    "import transformers\n",
    "from sklearn.decomposition import TruncatedSVD\n",
    "from gensim.models import Word2Vec\n",
    "import string\n",
    "\n",
    "\n",
    "punctuation = string.punctuation\n",
    "stop_words = stopwords.words('english')"
   ]
  },
  {
   "cell_type": "code",
   "execution_count": 3,
   "metadata": {},
   "outputs": [],
   "source": [
    "model = load_data(\"data/gensim_data/google\")"
   ]
  },
  {
   "cell_type": "code",
   "execution_count": 5,
   "metadata": {},
   "outputs": [],
   "source": [
    "def read_txt_as_str(f_name):\n",
    "    with open(f_name, 'r') as file:\n",
    "        return file.read().replace('\\n', ' ')"
   ]
  },
  {
   "cell_type": "code",
   "execution_count": 9,
   "metadata": {},
   "outputs": [],
   "source": [
    "positive_car = read_txt_as_str(\"data/positive_car.txt\")\n",
    "negative_car = read_txt_as_str(\"data/negative_car.txt\")\n",
    "\n",
    "advertising_keywords = [\"car\", \"drive\", \"fast\"]"
   ]
  },
  {
   "cell_type": "code",
   "execution_count": 118,
   "metadata": {},
   "outputs": [],
   "source": [
    "def preproccess_txt(txt, model):\n",
    "    # tokenize\n",
    "    tokens = word_tokenize(txt.lower())\n",
    "\n",
    "    # lemmatize\n",
    "    lemmatizer = WordNetLemmatizer()\n",
    "    lemmas = [lemmatizer.lemmatize(token) for token in tokens]\n",
    "    \n",
    "    # Remove stopwords\n",
    "    final_tokens = [token for token in lemmas if ((not (token in stop_words)) and (not (token in punctuation)))]\n",
    "\n",
    "    # remove words not in model\n",
    "    final_tokens = [w for w in final_tokens if w in model.key_to_index]\n",
    "    return final_tokens"
   ]
  },
  {
   "cell_type": "code",
   "execution_count": 28,
   "metadata": {},
   "outputs": [],
   "source": [
    "def get_tfid_vec(txt):\n",
    "    vectorizer = TfidfVectorizer(lowercase=True, stop_words='english', strip_accents='ascii')\n",
    "    vector = vectorizer.fit_transform(txt)\n",
    "    return vector"
   ]
  },
  {
   "cell_type": "code",
   "execution_count": 87,
   "metadata": {},
   "outputs": [],
   "source": [
    "def get_lsa(vecs):\n",
    "    lsa = TruncatedSVD()\n",
    "    dtm_lsa = lsa.fit_transform(vecs)\n",
    "    return dtm_lsa"
   ]
  },
  {
   "cell_type": "code",
   "execution_count": 79,
   "metadata": {},
   "outputs": [],
   "source": [
    "def get_vec_from_model(model, words, single_vec=False):\n",
    "    vecs = [model[w] for w in words if w in model.key_to_index]\n",
    "    vecs = np.array(vecs)\n",
    "    \n",
    "    if single_vec:\n",
    "        return vecs.mean(axis=0)\n",
    "    else:\n",
    "        return vecs"
   ]
  },
  {
   "cell_type": "code",
   "execution_count": 102,
   "metadata": {},
   "outputs": [],
   "source": [
    "def words_2_doc(words):\n",
    "    return ' '.join(words)"
   ]
  },
  {
   "cell_type": "code",
   "execution_count": 85,
   "metadata": {},
   "outputs": [],
   "source": [
    "def get_vec_from_model(model, words, single_vec=True):\n",
    "    vecs = [model[w] for w in words if w in model.key_to_index]\n",
    "    vecs = np.array(vecs)\n",
    "    \n",
    "    if single_vec:\n",
    "        return vecs.mean(axis=0)\n",
    "    else:\n",
    "        return vecs"
   ]
  },
  {
   "cell_type": "code",
   "execution_count": 120,
   "metadata": {},
   "outputs": [],
   "source": [
    "def get_vec_similarity(all_text, keywords, model, lsa):\n",
    "    all_vecs = []\n",
    "    for text in all_text:\n",
    "        proc_text = preproccess_txt(text, model)\n",
    "        vecs = get_vec_from_model(model, proc_text)\n",
    "        all_vecs.append(vecs)\n",
    "\n",
    "    proc_keywords = preproccess_txt(keywords, model)\n",
    "    keyword_vecs = get_vec_from_model(model, proc_keywords)\n",
    "\n",
    "    stacked_vecs = np.stack(all_vecs + [keyword_vecs])\n",
    "    if lsa:\n",
    "        return cosine_similarity(get_lsa(stacked_vecs))\n",
    "    else:\n",
    "        return cosine_similarity(stacked_vecs)"
   ]
  },
  {
   "cell_type": "code",
   "execution_count": 121,
   "metadata": {},
   "outputs": [],
   "source": [
    "lsa = get_vec_similarity([positive_car, negative_car], words_2_doc(advertising_keywords), model, True)\n",
    "cosine = get_vec_similarity([positive_car, negative_car], words_2_doc(advertising_keywords), model, False)"
   ]
  },
  {
   "cell_type": "code",
   "execution_count": 115,
   "metadata": {},
   "outputs": [
    {
     "data": {
      "text/plain": [
       "array([[1.        , 0.99134505, 0.4975334 ],\n",
       "       [0.99134505, 1.        , 0.6071074 ],\n",
       "       [0.4975334 , 0.6071074 , 0.99999994]], dtype=float32)"
      ]
     },
     "execution_count": 115,
     "metadata": {},
     "output_type": "execute_result"
    }
   ],
   "source": [
    "lsa"
   ]
  },
  {
   "cell_type": "code",
   "execution_count": 116,
   "metadata": {},
   "outputs": [
    {
     "data": {
      "text/plain": [
       "array([[1.0000002 , 0.62357   , 0.46202835],\n",
       "       [0.62357   , 1.0000002 , 0.5324671 ],\n",
       "       [0.46202835, 0.5324671 , 1.0000004 ]], dtype=float32)"
      ]
     },
     "execution_count": 116,
     "metadata": {},
     "output_type": "execute_result"
    }
   ],
   "source": [
    "cosine"
   ]
  },
  {
   "cell_type": "code",
   "execution_count": 125,
   "metadata": {},
   "outputs": [
    {
     "name": "stdout",
     "output_type": "stream",
     "text": [
      "positive 0.46202832\n",
      "negative 0.5324669\n"
     ]
    }
   ],
   "source": [
    "pos_similarity = model.n_similarity(preproccess_txt(positive_car, model), advertising_keywords)\n",
    "neg_similarity = model.n_similarity(preproccess_txt(negative_car, model), advertising_keywords)\n",
    "print(\"positive\", pos_similarity)\n",
    "print(\"negative\", neg_similarity)"
   ]
  }
 ],
 "metadata": {
  "kernelspec": {
   "display_name": "base",
   "language": "python",
   "name": "python3"
  },
  "language_info": {
   "codemirror_mode": {
    "name": "ipython",
    "version": 3
   },
   "file_extension": ".py",
   "mimetype": "text/x-python",
   "name": "python",
   "nbconvert_exporter": "python",
   "pygments_lexer": "ipython3",
   "version": "3.8.5"
  },
  "orig_nbformat": 4
 },
 "nbformat": 4,
 "nbformat_minor": 2
}
